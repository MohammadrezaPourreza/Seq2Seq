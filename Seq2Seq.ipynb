{
  "nbformat": 4,
  "nbformat_minor": 0,
  "metadata": {
    "colab": {
      "name": "Seq2Seq.ipynb",
      "provenance": [],
      "collapsed_sections": [],
      "include_colab_link": true
    },
    "kernelspec": {
      "display_name": "Python 3",
      "name": "python3"
    },
    "language_info": {
      "name": "python"
    }
  },
  "cells": [
    {
      "cell_type": "markdown",
      "metadata": {
        "id": "view-in-github",
        "colab_type": "text"
      },
      "source": [
        "<a href=\"https://colab.research.google.com/github/MohammadrezaPourreza/Seq2Seq/blob/main/Seq2Seq.ipynb\" target=\"_parent\"><img src=\"https://colab.research.google.com/assets/colab-badge.svg\" alt=\"Open In Colab\"/></a>"
      ]
    },
    {
      "cell_type": "markdown",
      "metadata": {
        "id": "0PUekssvgJeh"
      },
      "source": [
        "First we should download data from github and install some package"
      ]
    },
    {
      "cell_type": "code",
      "metadata": {
        "id": "dq5aUxz1gl16"
      },
      "source": [
        "!git clone https://github.com/HamidSajjadi/Pubmed-T5Gan.git\n",
        "!pip install transformers\n",
        "!pip install sent2vec\n",
        "!pip install biobert_embedding\n",
        "!pip install torchtext"
      ],
      "execution_count": null,
      "outputs": []
    },
    {
      "cell_type": "markdown",
      "metadata": {
        "id": "OT7HVbg2g_FJ"
      },
      "source": [
        "In this part we import requried packages for our project"
      ]
    },
    {
      "cell_type": "code",
      "metadata": {
        "id": "AAdsTxZOhEtw"
      },
      "source": [
        "import torch\n",
        "import torch.nn as nn\n",
        "import torch.nn.functional as F\n",
        "import torch.optim as optim\n",
        "import torchtext\n",
        "from torchtext.legacy.datasets import Multi30k\n",
        "import torchtext.vocab as vocab\n",
        "from torchtext.legacy.data import Field, BucketIterator, TabularDataset\n",
        "import spacy\n",
        "import numpy as np\n",
        "import random\n",
        "import string\n",
        "import math\n",
        "import time\n",
        "import pandas as pd\n",
        "import pickle\n",
        "import sent2vec\n",
        "from random import random as rand\n",
        "from tqdm import tqdm\n",
        "from torch.utils.data import DataLoader\n",
        "from biobert_embedding.embedding import BiobertEmbedding\n",
        "from nltk import word_tokenize\n",
        "from nltk.corpus import stopwords\n",
        "from string import punctuation\n",
        "from scipy.spatial import distance\n",
        "from gensim.models import FastText as ft\n",
        "from gensim.test.utils import datapath"
      ],
      "execution_count": 2,
      "outputs": []
    },
    {
      "cell_type": "markdown",
      "metadata": {
        "id": "qjwAgTEDspB6"
      },
      "source": [
        "Setting seeds"
      ]
    },
    {
      "cell_type": "code",
      "metadata": {
        "id": "xs380MbksrwA"
      },
      "source": [
        "SEED = 1234\n",
        "np.random.seed(SEED)\n",
        "torch.manual_seed(SEED)\n",
        "torch.cuda.manual_seed(SEED)\n",
        "torch.backends.cudnn.deterministic = True"
      ],
      "execution_count": 3,
      "outputs": []
    },
    {
      "cell_type": "markdown",
      "metadata": {
        "id": "81JlcG2hkZbc"
      },
      "source": [
        "Then we should load data and process it to be suitable for Encoder"
      ]
    },
    {
      "cell_type": "code",
      "metadata": {
        "id": "5gZ3Q83qkgCP"
      },
      "source": [
        "#open dataset with pandas and drop unrelated columns, removing punctuations from keywords\n",
        "df = pd.read_csv('/content/Pubmed-T5Gan/data/clef.csv')\n",
        "df = df.sample(frac=1)\n",
        "df = df.drop(['topic_id', 'related','orig'], axis=1)\n",
        "df['keywords'] = df['keywords'].apply(lambda x: str(x).translate(str.maketrans('', '', string.punctuation)))\n",
        "df['description'] = df['description'].apply(lambda x: str(x).translate(str.maketrans('', '', string.punctuation)))\n",
        "test_df,val_df,train_df = np.split(df, [int(.1*len(df)), int(.2*len(df))])\n",
        "test_df.to_csv('test.csv', encoding='utf-8',index=False,header=False)\n",
        "val_df.to_csv('val.csv', encoding='utf-8',index=False,header=False)\n",
        "train_df.to_csv('train.csv', encoding='utf-8',index=False,header=False)\n"
      ],
      "execution_count": 4,
      "outputs": []
    },
    {
      "cell_type": "markdown",
      "metadata": {
        "id": "lMJhhQrZr-iA"
      },
      "source": [
        "## **Data Augmentation**"
      ]
    },
    {
      "cell_type": "markdown",
      "metadata": {
        "id": "Um4966aksNLi"
      },
      "source": [
        "**Install nlpaug package**"
      ]
    },
    {
      "cell_type": "code",
      "metadata": {
        "id": "qh7xrAtU6bBY"
      },
      "source": [
        "!pip install numpy git+https://github.com/makcedward/nlpaug.git\n",
        "!pip install nltk>=3.4.5\n",
        "import nltk\n",
        "import nlpaug.augmenter.char as nac\n",
        "import nlpaug.augmenter.word as naw\n",
        "import nlpaug.augmenter.sentence as nas\n",
        "nltk.download('averaged_perceptron_tagger')\n",
        "nltk.download('wordnet')\n",
        "!pip install pandas\n",
        "import pandas as pd"
      ],
      "execution_count": null,
      "outputs": []
    },
    {
      "cell_type": "markdown",
      "metadata": {
        "id": "0s6Hun1D0tCw"
      },
      "source": [
        "**Word augmentation using pre trained models**"
      ]
    },
    {
      "cell_type": "code",
      "metadata": {
        "id": "rEuv5pXZiG1R"
      },
      "source": [
        "train_df = pd.read_csv('train.csv',header=None)\n",
        "aug = naw.ContextualWordEmbsAug(\n",
        "    model_path='bert-base-uncased', action=\"substitute\")\n",
        "augmented = []\n",
        "for index, row in train_df.iterrows():\n",
        "    org = row[0]\n",
        "    augmented_text = aug.augment(org,n=5)\n",
        "    temp = []\n",
        "    temp.append(org)\n",
        "    temp.append(row[1])\n",
        "    augmented.append(temp)\n",
        "    for sent in augmented_text:\n",
        "      temp = []\n",
        "      temp.append(sent)\n",
        "      temp.append(row[1])\n",
        "      augmented.append(temp)\n",
        "trainAug_df = pd.DataFrame(augmented)\n",
        "trainAug_df.to_csv('trainAug.csv', encoding='utf-8',index=False,header=False)"
      ],
      "execution_count": null,
      "outputs": []
    },
    {
      "cell_type": "markdown",
      "metadata": {
        "id": "kCdJEk6611Us"
      },
      "source": [
        "**Creating bioBert word embedding matix**"
      ]
    },
    {
      "cell_type": "code",
      "metadata": {
        "id": "4r0mqf-m4Saf"
      },
      "source": [
        "biobert = BiobertEmbedding()\n",
        "Bertvocab = open(\"/content/biobert_v1.1_pubmed_pytorch_model/vocab.txt\", \"r\")\n",
        "vocab = Bertvocab.read()\n",
        "with open('biobert_embeddings.txt', 'w+') as f:\n",
        "  for word in vocab.splitlines():\n",
        "    try:\n",
        "      word_vec = biobert.word_vector(str(word))[0].flatten().tolist()\n",
        "      vector_str = ' '.join([str(v) for v in word_vec])\n",
        "      f.write(f'{word} {vector_str}\\n')\n",
        "    except:\n",
        "      print(word)\n",
        "      #print(biobert.word_vector(str(word)))\n"
      ],
      "execution_count": null,
      "outputs": []
    },
    {
      "cell_type": "markdown",
      "metadata": {
        "id": "a8QuD0r71FwT"
      },
      "source": [
        "**Or download it from my drive and share your drive here**"
      ]
    },
    {
      "cell_type": "code",
      "metadata": {
        "id": "0mrgRFD11NYQ"
      },
      "source": [
        "from google.colab import drive\n",
        "drive.mount('/content/drive')"
      ],
      "execution_count": null,
      "outputs": []
    },
    {
      "cell_type": "markdown",
      "metadata": {
        "id": "8AwB6T350Kud"
      },
      "source": [
        "Prepocessing the data for encoder and tokenizing it\n"
      ]
    },
    {
      "cell_type": "code",
      "metadata": {
        "id": "8YZ8o0BC0PFN"
      },
      "source": [
        "#download spacy models\n",
        "spacy_en = spacy.load('en_core_web_sm')\n",
        "#creating tokenizing function\n",
        "def tokenize_en(text):\n",
        "    return [tok.text for tok in spacy_en.tokenizer(text)]\n",
        "Text = Field(tokenize = tokenize_en, init_token = '<sos>', eos_token = '<eos>', lower = True)\n",
        "train_data, valid_data, test_data = TabularDataset.splits(path = './',\n",
        "    train='trainAug.csv',\n",
        "    validation='val.csv', test='test.csv', format='csv',\n",
        "    fields=[('description', Text), ('keywords', Text)])\n",
        "#use pretrainded Glove embeddings\n",
        "#Text.build_vocab(train_data,vectors=\"glove.6B.50d\")\n",
        "#use pretrainded biobert embeddings\n",
        "biobert_embeddings = vocab.Vectors(name = 'drive/MyDrive/biobert_embeddings.txt',cache='./content/')\n",
        "Text.build_vocab(train_data, vectors = biobert_embeddings)\n",
        "print(f\"Unique tokens in target (keywrods) vocabulary: {len(Text.vocab)}\")\n",
        "\n",
        "#TPU\n",
        "#device = xm.xla_device()\n",
        "\n",
        "#GPU and CPU\n",
        "device = torch.device('cuda' if torch.cuda.is_available() else 'cpu')\n",
        "\n",
        "BATCH_SIZE = 128\n",
        "\n",
        "train_iterator, valid_iterator, test_iterator = BucketIterator.splits(\n",
        "    (train_data, valid_data, test_data), \n",
        "    batch_size = BATCH_SIZE, \n",
        "    device = device,\n",
        "    sort_key = lambda x: len(x.description),\n",
        "    sort_within_batch=True)"
      ],
      "execution_count": null,
      "outputs": []
    },
    {
      "cell_type": "markdown",
      "metadata": {
        "id": "0tcTQjNs0TZx"
      },
      "source": [
        "**checking the embedding**"
      ]
    },
    {
      "cell_type": "code",
      "metadata": {
        "id": "whoM2i-ahA2p"
      },
      "source": [
        "vocab_len,emb_dim = Text.vocab.vectors.size()\n",
        "print(emb_dim)\n",
        "print(vocab_len)\n",
        "biobert = BiobertEmbedding()\n",
        "print(torch.equal(biobert.word_vector(str('the'))[0],Text.vocab.vectors[Text.vocab.stoi[\"the\"]]))\n",
        "#2 is thenumber of special tokens\n",
        "unk_num = 0\n",
        "for i in range (2,vocab_len):\n",
        "  if len(Text.vocab.vectors[i, :].nonzero()) == 0:\n",
        "    unk_num += 1\n",
        "print(\"number of unknown words = \" + str(unk_num))"
      ],
      "execution_count": null,
      "outputs": []
    },
    {
      "cell_type": "markdown",
      "metadata": {
        "id": "6C8CmxM44Mms"
      },
      "source": [
        "**Initializing unknown words randomly**"
      ]
    },
    {
      "cell_type": "code",
      "metadata": {
        "colab": {
          "base_uri": "https://localhost:8080/"
        },
        "id": "9y9oYWvu4Qy2",
        "outputId": "2b957b5e-0136-49ce-b960-900c682d6625"
      },
      "source": [
        "def init_emb(vocab, init=\"randn\", num_special_toks=2):\n",
        "    emb_vectors = vocab.vectors\n",
        "    sweep_range = len(vocab)\n",
        "    running_norm = 0.\n",
        "    num_non_zero = 0\n",
        "    total_words = 0\n",
        "    for i in range(num_special_toks, sweep_range):\n",
        "        if len(emb_vectors[i, :].nonzero()) == 0:\n",
        "          if init == \"randn\":\n",
        "              torch.nn.init.normal(emb_vectors[i], mean=0, std=0.05)\n",
        "        else:\n",
        "          num_non_zero += 1\n",
        "          running_norm += torch.norm(emb_vectors[i])\n",
        "        total_words += 1\n",
        "    print(\"average norm is {}, number of known words are {}, total number of words are {}\".format(\n",
        "        running_norm / num_non_zero, num_non_zero, total_words))\n",
        "init_emb(Text.vocab)"
      ],
      "execution_count": null,
      "outputs": [
        {
          "name": "stderr",
          "output_type": "stream",
          "text": [
            "/usr/local/lib/python3.7/dist-packages/ipykernel_launcher.py:10: UserWarning: nn.init.normal is now deprecated in favor of nn.init.normal_.\n",
            "  # Remove the CWD from sys.path while we load stuff.\n"
          ]
        },
        {
          "name": "stdout",
          "output_type": "stream",
          "text": [
            "average norm is 73.70836639404297, number of known words are 3685, total number of words are 12386\n"
          ]
        }
      ]
    },
    {
      "cell_type": "markdown",
      "metadata": {
        "id": "LFPDzJpM6QGZ"
      },
      "source": [
        "**Building a sequence to sequence model**"
      ]
    },
    {
      "cell_type": "markdown",
      "metadata": {
        "id": "TMud_390WuH3"
      },
      "source": [
        "**Encoder part without attention**"
      ]
    },
    {
      "cell_type": "code",
      "metadata": {
        "id": "fXWY7Bj06UXp"
      },
      "source": [
        "class Encoder(nn.Module):\n",
        "    def __init__(self,field , hid_dim, n_layers, dropout):\n",
        "        super().__init__()\n",
        "        self.field = field\n",
        "        self.input_dim,self.emb_dim = self.field.vocab.vectors.size()\n",
        "        self.hid_dim = hid_dim\n",
        "        self.n_layers = n_layers\n",
        "        #for trainable embedding layer uncomment below\n",
        "        #self.embedding = nn.Embedding.from_pretrained(field.vocab.vectors, freeze=False)\n",
        "        #pretrained embedding\n",
        "        self.embedding = nn.Embedding.from_pretrained(self.field.vocab.vectors, freeze=False)\n",
        "        #self.embedding, num_embeddings, embedding_dim = create_emb_layer(weights_matrix, True)\n",
        "        #LSTM\n",
        "        self.rnn = nn.LSTM(self.emb_dim, self.hid_dim, self.n_layers, dropout = dropout,bidirectional = True)\n",
        "        #GRU\n",
        "        #self.rnn = nn.GRU(self.emb_dim, self.hid_dim, self.n_layers, dropout = dropout,bidirectional = False)\n",
        "        self.dropout = nn.Dropout(dropout)\n",
        "        \n",
        "    def forward(self, src):\n",
        "        #src = [src len, batch size]\n",
        "        embedded = self.dropout(self.embedding(src))\n",
        "        #embedded = [src len, batch size, emb dim]\n",
        "        #LSTM\n",
        "        outputs, (hidden, cell) = self.rnn(embedded)\n",
        "        #GRU\n",
        "        #outputs , hidden = self.rnn(embedded)\n",
        "        #outputs = [src len, batch size, hid dim * n directions]\n",
        "        #hidden = [n layers * n directions, batch size, hid dim]\n",
        "        #cell = [n layers * n directions, batch size, hid dim]\n",
        "        #outputs are always from the top hidden layer\n",
        "        #LSTM\n",
        "        return hidden, cell\n",
        "        #GRU\n",
        "        #return hidden"
      ],
      "execution_count": null,
      "outputs": []
    },
    {
      "cell_type": "markdown",
      "metadata": {
        "id": "NrZWYOkuBc7E"
      },
      "source": [
        "**Decoder without attention**"
      ]
    },
    {
      "cell_type": "code",
      "metadata": {
        "id": "iKcksn9QBgdT"
      },
      "source": [
        "class Decoder(nn.Module):\n",
        "    def __init__(self, field, hid_dim, n_layers, dropout):\n",
        "        super().__init__()\n",
        "        self.field = field\n",
        "        self.output_dim, self.emb_dim = self.field.vocab.vectors.size()\n",
        "        self.hid_dim = hid_dim\n",
        "        self.n_layers = n_layers\n",
        "        self.embedding = nn.Embedding.from_pretrained(self.field.vocab.vectors, freeze=False)\n",
        "        #LSTM\n",
        "        self.rnn = nn.LSTM(self.emb_dim, self.hid_dim, self.n_layers, dropout = dropout,bidirectional = True)\n",
        "        #GRU\n",
        "        #self.rnn = nn.GRU(self.emb_dim, self.hid_dim, self.n_layers, dropout = dropout,bidirectional = False)\n",
        "        self.fc_out = nn.Linear(self.hid_dim*2, self.output_dim)\n",
        "        self.dropout = nn.Dropout(dropout)\n",
        "    def forward(self, input, hidden, cell = None):\n",
        "        #input = [batch size]\n",
        "        #hidden = [n layers * n directions, batch size, hid dim]\n",
        "        #cell = [n layers * n directions, batch size, hid dim]     \n",
        "        #n directions in the decoder will both always be 1, therefore:\n",
        "        #hidden = [n layers, batch size, hid dim]\n",
        "        #context = [n layers, batch size, hid dim]\n",
        "        input = input.unsqueeze(0)\n",
        "        #input = [1, batch size]\n",
        "        embedded = self.dropout(self.embedding(input))\n",
        "        #embedded = [1, batch size, emb dim]\n",
        "        #LSTM\n",
        "        output, (hidden, cell) = self.rnn(embedded, (hidden, cell))\n",
        "        #GRU\n",
        "        #output,hidden = self.rnn(embedded,hidden)\n",
        "        #output = [seq len, batch size, hid dim * n directions]\n",
        "        #hidden = [n layers * n directions, batch size, hid dim]\n",
        "        #cell = [n layers * n directions, batch size, hid dim]\n",
        "        #seq len and n directions will always be 1 in the decoder, therefore:\n",
        "        #output = [1, batch size, hid dim]\n",
        "        #hidden = [n layers, batch size, hid dim]\n",
        "        #cell = [n layers, batch size, hid dim]\n",
        "        prediction = self.fc_out(output.squeeze(0))\n",
        "        #prediction = [batch size, output dim]\n",
        "        #LSTM\n",
        "        return prediction, hidden, cell\n",
        "        #GRU\n",
        "        #return prediction, hidden"
      ],
      "execution_count": null,
      "outputs": []
    },
    {
      "cell_type": "markdown",
      "metadata": {
        "id": "Ofo0oFRlCtzR"
      },
      "source": [
        "**Seq2Seq class without attention**"
      ]
    },
    {
      "cell_type": "code",
      "metadata": {
        "id": "lb9Jx1fhCwUf"
      },
      "source": [
        "class Seq2Seq(nn.Module):\n",
        "    def __init__(self, encoder, decoder, device):\n",
        "        super().__init__()\n",
        "        self.encoder = encoder\n",
        "        self.decoder = decoder\n",
        "        self.device = device\n",
        "        assert encoder.hid_dim == decoder.hid_dim, \\\n",
        "            \"Hidden dimensions of encoder and decoder must be equal!\"\n",
        "        assert encoder.n_layers == decoder.n_layers, \\\n",
        "            \"Encoder and decoder must have equal number of layers!\"\n",
        "        \n",
        "    def forward(self, src, trg, teacher_forcing_ratio = 0.5):\n",
        "        #src = [src len, batch size]\n",
        "        #trg = [trg len, batch size]\n",
        "        #teacher_forcing_ratio is probability to use teacher forcing\n",
        "        #e.g. if teacher_forcing_ratio is 0.75 we use ground-truth inputs 75% of the time\n",
        "        batch_size = trg.shape[1]\n",
        "        trg_len = trg.shape[0]\n",
        "        trg_vocab_size = self.decoder.output_dim\n",
        "        #tensor to store decoder outputs\n",
        "        outputs = torch.zeros(trg_len, batch_size, trg_vocab_size).to(self.device)\n",
        "        #last hidden state of the encoder is used as the initial hidden state of the decoder\n",
        "        #LSTM\n",
        "        hidden, cell = self.encoder(src)\n",
        "        #GRU\n",
        "        #hidden = self.encoder(src)\n",
        "        #first input to the decoder is the <sos> tokens\n",
        "        input = trg[0,:]\n",
        "        for t in range(1, trg_len):\n",
        "            #insert input token embedding, previous hidden and previous cell states\n",
        "            #receive output tensor (predictions) and new hidden and cell states\n",
        "            #LSTM\n",
        "            output, hidden, cell = self.decoder(input, hidden, cell)\n",
        "            #GRU\n",
        "            #output, hidden = self.decoder(input,hidden)\n",
        "            #place predictions in a tensor holding predictions for each token\n",
        "            outputs[t] = output\n",
        "            #decide if we are going to use teacher forcing or not\n",
        "            teacher_force = random.random() < teacher_forcing_ratio\n",
        "            #get the highest predicted token from our predictions\n",
        "            top1 = output.argmax(1) \n",
        "            #if teacher forcing, use actual next token as next input\n",
        "            #if not, use predicted token\n",
        "            input = trg[t] if teacher_force else top1\n",
        "        return outputs"
      ],
      "execution_count": null,
      "outputs": []
    },
    {
      "cell_type": "markdown",
      "metadata": {
        "id": "_-4g0aWSGGla"
      },
      "source": [
        "**Creating Encoder, decoder, attention and seq2seq all together**"
      ]
    },
    {
      "cell_type": "code",
      "metadata": {
        "id": "_m4O25onGSLJ"
      },
      "source": [
        "#encoder\n",
        "class Encoder(nn.Module):\n",
        "    def __init__(self, field, enc_hid_dim, dec_hid_dim, dropout):\n",
        "        super().__init__()        \n",
        "        self.field = field\n",
        "        self.input_dim,self.emb_dim = self.field.vocab.vectors.size() \n",
        "        self.embedding = nn.Embedding.from_pretrained(self.field.vocab.vectors, freeze=False)   \n",
        "        self.rnn = nn.GRU(self.emb_dim, enc_hid_dim, bidirectional = True)        \n",
        "        self.fc = nn.Linear(enc_hid_dim * 2, dec_hid_dim)       \n",
        "        self.dropout = nn.Dropout(dropout)\n",
        "        \n",
        "    def forward(self, src):        \n",
        "        #src = [src len, batch size]       \n",
        "        embedded = self.dropout(self.embedding(src))       \n",
        "        #embedded = [src len, batch size, emb dim]       \n",
        "        outputs, hidden = self.rnn(embedded)               \n",
        "        #outputs = [src len, batch size, hid dim * num directions]\n",
        "        #hidden = [n layers * num directions, batch size, hid dim]        \n",
        "        #hidden is stacked [forward_1, backward_1, forward_2, backward_2, ...]\n",
        "        #outputs are always from the last layer\n",
        "        #hidden [-2, :, : ] is the last of the forwards RNN \n",
        "        #hidden [-1, :, : ] is the last of the backwards RNN\n",
        "        #initial decoder hidden is final hidden state of the forwards and backwards \n",
        "        #  encoder RNNs fed through a linear layer\n",
        "        hidden = torch.tanh(self.fc(torch.cat((hidden[-2,:,:], hidden[-1,:,:]), dim = 1)))\n",
        "        #outputs = [src len, batch size, enc hid dim * 2]\n",
        "        #hidden = [batch size, dec hid dim]\n",
        "        return outputs, hidden\n",
        "#attention\n",
        "class Attention(nn.Module):\n",
        "    def __init__(self, enc_hid_dim, dec_hid_dim):\n",
        "        super().__init__()\n",
        "        self.attn = nn.Linear((enc_hid_dim * 2) + dec_hid_dim, dec_hid_dim)\n",
        "        self.v = nn.Linear(dec_hid_dim, 1, bias = False)\n",
        "    def forward(self, hidden, encoder_outputs):\n",
        "        \n",
        "        #hidden = [batch size, dec hid dim]\n",
        "        #encoder_outputs = [src len, batch size, enc hid dim * 2]\n",
        "        \n",
        "        batch_size = encoder_outputs.shape[1]\n",
        "        src_len = encoder_outputs.shape[0]\n",
        "        \n",
        "        #repeat decoder hidden state src_len times\n",
        "        hidden = hidden.unsqueeze(1).repeat(1, src_len, 1)\n",
        "        \n",
        "        encoder_outputs = encoder_outputs.permute(1, 0, 2)\n",
        "        \n",
        "        #hidden = [batch size, src len, dec hid dim]\n",
        "        #encoder_outputs = [batch size, src len, enc hid dim * 2]\n",
        "        \n",
        "        energy = torch.tanh(self.attn(torch.cat((hidden, encoder_outputs), dim = 2))) \n",
        "        \n",
        "        #energy = [batch size, src len, dec hid dim]\n",
        "\n",
        "        attention = self.v(energy).squeeze(2)\n",
        "        \n",
        "        #attention= [batch size, src len]\n",
        "        \n",
        "        return F.softmax(attention, dim=1)\n",
        "#decoder\n",
        "class Decoder(nn.Module):\n",
        "    def __init__(self, field, enc_hid_dim, dec_hid_dim, dropout, attention):\n",
        "        super().__init__()\n",
        "        self.attention = attention\n",
        "        self.field = field\n",
        "        self.output_dim,self.emb_dim = self.field.vocab.vectors.size() \n",
        "        self.embedding = nn.Embedding.from_pretrained(self.field.vocab.vectors, freeze=False)        \n",
        "        self.rnn = nn.GRU((enc_hid_dim * 2) + self.emb_dim, dec_hid_dim)     \n",
        "        self.fc_out = nn.Linear((enc_hid_dim * 2) + dec_hid_dim + emb_dim, self.output_dim)  \n",
        "        self.dropout = nn.Dropout(dropout)\n",
        "        \n",
        "    def forward(self, input, hidden, encoder_outputs):\n",
        "             \n",
        "        #input = [batch size]\n",
        "        #hidden = [batch size, dec hid dim]\n",
        "        #encoder_outputs = [src len, batch size, enc hid dim * 2]        \n",
        "        input = input.unsqueeze(0)       \n",
        "        #input = [1, batch size]\n",
        "        \n",
        "        embedded = self.dropout(self.embedding(input))\n",
        "        \n",
        "        #embedded = [1, batch size, emb dim]\n",
        "        \n",
        "        a = self.attention(hidden, encoder_outputs)\n",
        "                \n",
        "        #a = [batch size, src len]\n",
        "        \n",
        "        a = a.unsqueeze(1)\n",
        "        \n",
        "        #a = [batch size, 1, src len]\n",
        "        \n",
        "        encoder_outputs = encoder_outputs.permute(1, 0, 2)\n",
        "        \n",
        "        #encoder_outputs = [batch size, src len, enc hid dim * 2]\n",
        "        \n",
        "        weighted = torch.bmm(a, encoder_outputs)\n",
        "        \n",
        "        #weighted = [batch size, 1, enc hid dim * 2]\n",
        "        \n",
        "        weighted = weighted.permute(1, 0, 2)\n",
        "        \n",
        "        #weighted = [1, batch size, enc hid dim * 2]\n",
        "        \n",
        "        rnn_input = torch.cat((embedded, weighted), dim = 2)\n",
        "        \n",
        "        #rnn_input = [1, batch size, (enc hid dim * 2) + emb dim]\n",
        "            \n",
        "        output, hidden = self.rnn(rnn_input, hidden.unsqueeze(0))\n",
        "        \n",
        "        #output = [seq len, batch size, dec hid dim * n directions]\n",
        "        #hidden = [n layers * n directions, batch size, dec hid dim]\n",
        "        \n",
        "        #seq len, n layers and n directions will always be 1 in this decoder, therefore:\n",
        "        #output = [1, batch size, dec hid dim]\n",
        "        #hidden = [1, batch size, dec hid dim]\n",
        "        #this also means that output == hidden\n",
        "        assert (output == hidden).all()\n",
        "        \n",
        "        embedded = embedded.squeeze(0)\n",
        "        output = output.squeeze(0)\n",
        "        weighted = weighted.squeeze(0)\n",
        "        \n",
        "        prediction = self.fc_out(torch.cat((output, weighted, embedded), dim = 1))\n",
        "        \n",
        "        #prediction = [batch size, output dim]\n",
        "        \n",
        "        return prediction, hidden.squeeze(0)\n",
        "#seq2seq\n",
        "class Seq2Seq(nn.Module):\n",
        "    def __init__(self, encoder, decoder, device):\n",
        "        super().__init__()\n",
        "        \n",
        "        self.encoder = encoder\n",
        "        self.decoder = decoder\n",
        "        self.device = device\n",
        "        \n",
        "    def forward(self, src, trg, teacher_forcing_ratio = 0.5):\n",
        "        \n",
        "        #src = [src len, batch size]\n",
        "        #trg = [trg len, batch size]\n",
        "        #teacher_forcing_ratio is probability to use teacher forcing\n",
        "        #e.g. if teacher_forcing_ratio is 0.75 we use teacher forcing 75% of the time\n",
        "        \n",
        "        batch_size = src.shape[1]\n",
        "        trg_len = trg.shape[0]\n",
        "        trg_vocab_size = self.decoder.output_dim\n",
        "        \n",
        "        #tensor to store decoder outputs\n",
        "        outputs = torch.zeros(trg_len, batch_size, trg_vocab_size).to(self.device)\n",
        "        \n",
        "        #encoder_outputs is all hidden states of the input sequence, back and forwards\n",
        "        #hidden is the final forward and backward hidden states, passed through a linear layer\n",
        "        encoder_outputs, hidden = self.encoder(src)\n",
        "                \n",
        "        #first input to the decoder is the <sos> tokens\n",
        "        input = trg[0,:]\n",
        "        \n",
        "        for t in range(1, trg_len):\n",
        "            \n",
        "            #insert input token embedding, previous hidden state and all encoder hidden states\n",
        "            #receive output tensor (predictions) and new hidden state\n",
        "            output, hidden = self.decoder(input, hidden, encoder_outputs)\n",
        "            \n",
        "            #place predictions in a tensor holding predictions for each token\n",
        "            outputs[t] = output\n",
        "            \n",
        "            #decide if we are going to use teacher forcing or not\n",
        "            teacher_force = random.random() < teacher_forcing_ratio\n",
        "            \n",
        "            #get the highest predicted token from our predictions\n",
        "            top1 = output.argmax(1) \n",
        "            \n",
        "            #if teacher forcing, use actual next token as next input\n",
        "            #if not, use predicted token\n",
        "            input = trg[t] if teacher_force else top1\n",
        "\n",
        "        return outputs\n"
      ],
      "execution_count": null,
      "outputs": []
    },
    {
      "cell_type": "markdown",
      "metadata": {
        "id": "wCVRhfzqrQ8j"
      },
      "source": [
        "# **Training the Seq2Seq model**"
      ]
    },
    {
      "cell_type": "markdown",
      "metadata": {
        "id": "dty1_9ESrlLQ"
      },
      "source": [
        "**initialization without attention**"
      ]
    },
    {
      "cell_type": "code",
      "metadata": {
        "id": "ddSMu32VrWBI"
      },
      "source": [
        "HID_DIM = 64\n",
        "N_LAYERS = 2\n",
        "ENC_DROPOUT = 0.5\n",
        "DEC_DROPOUT = 0.5\n",
        "\n",
        "enc = Encoder(Text, HID_DIM, N_LAYERS, ENC_DROPOUT)\n",
        "dec = Decoder(Text, HID_DIM, N_LAYERS, DEC_DROPOUT)\n",
        "\n",
        "model = Seq2Seq(enc, dec, device).to(device)"
      ],
      "execution_count": null,
      "outputs": []
    },
    {
      "cell_type": "markdown",
      "metadata": {
        "id": "bi5XaVoYKjvb"
      },
      "source": [
        "**initilization with attention**"
      ]
    },
    {
      "cell_type": "code",
      "metadata": {
        "id": "hmntLH0tKnJG"
      },
      "source": [
        "ENC_HID_DIM = 64\n",
        "DEC_HID_DIM = 64\n",
        "ENC_DROPOUT = 0.5\n",
        "DEC_DROPOUT = 0.5\n",
        "\n",
        "attn = Attention(ENC_HID_DIM, DEC_HID_DIM)\n",
        "enc = Encoder(Text, ENC_HID_DIM, DEC_HID_DIM, ENC_DROPOUT)\n",
        "dec = Decoder(Text, ENC_HID_DIM, DEC_HID_DIM, DEC_DROPOUT, attn)\n",
        "\n",
        "model = Seq2Seq(enc, dec, device).to(device)"
      ],
      "execution_count": null,
      "outputs": []
    },
    {
      "cell_type": "markdown",
      "metadata": {
        "id": "eKcBDKMCsjs3"
      },
      "source": [
        "**Initialize the wieghts**"
      ]
    },
    {
      "cell_type": "code",
      "metadata": {
        "colab": {
          "base_uri": "https://localhost:8080/"
        },
        "id": "goejm7Whs4xZ",
        "outputId": "00e4364c-59fa-4d4f-dfd5-f8a786fc7147"
      },
      "source": [
        "def init_weights(m):\n",
        "    for name, param in m.named_parameters():\n",
        "        nn.init.uniform_(param.data, -0.08, 0.08)\n",
        "        \n",
        "model.apply(init_weights)"
      ],
      "execution_count": null,
      "outputs": [
        {
          "data": {
            "text/plain": [
              "Seq2Seq(\n",
              "  (encoder): Encoder(\n",
              "    (embedding): Embedding(12388, 768)\n",
              "    (rnn): GRU(768, 64, bidirectional=True)\n",
              "    (fc): Linear(in_features=128, out_features=64, bias=True)\n",
              "    (dropout): Dropout(p=0.5, inplace=False)\n",
              "  )\n",
              "  (decoder): Decoder(\n",
              "    (attention): Attention(\n",
              "      (attn): Linear(in_features=192, out_features=64, bias=True)\n",
              "      (v): Linear(in_features=64, out_features=1, bias=False)\n",
              "    )\n",
              "    (embedding): Embedding(12388, 768)\n",
              "    (rnn): GRU(896, 64)\n",
              "    (fc_out): Linear(in_features=960, out_features=12388, bias=True)\n",
              "    (dropout): Dropout(p=0.5, inplace=False)\n",
              "  )\n",
              ")"
            ]
          },
          "execution_count": 40,
          "metadata": {},
          "output_type": "execute_result"
        }
      ]
    },
    {
      "cell_type": "markdown",
      "metadata": {
        "id": "HnhsjdjttDa-"
      },
      "source": [
        "**trainable features**"
      ]
    },
    {
      "cell_type": "code",
      "metadata": {
        "colab": {
          "base_uri": "https://localhost:8080/"
        },
        "id": "dwfOpyGhtNgg",
        "outputId": "be9f95fd-e384-4f6b-c828-098b822b0b9d"
      },
      "source": [
        "def count_parameters(model):\n",
        "    return sum(p.numel() for p in model.parameters() if p.requires_grad)\n",
        "\n",
        "print(f'The model has {count_parameters(model):,} trainable parameters')"
      ],
      "execution_count": null,
      "outputs": [
        {
          "name": "stdout",
          "output_type": "stream",
          "text": [
            "The model has 31,458,468 trainable parameters\n"
          ]
        }
      ]
    },
    {
      "cell_type": "markdown",
      "metadata": {
        "id": "R7D__fY8PqmA"
      },
      "source": [
        "**Focal loss for imbalanced dataset**"
      ]
    },
    {
      "cell_type": "code",
      "metadata": {
        "id": "ORDTUS1BPqQq"
      },
      "source": [
        "class FocalLoss(nn.modules.NLLLoss):\n",
        "    def __init__(self, weight=None, gamma=2,reduction='mean',ignore_index = -100):\n",
        "        super(FocalLoss, self).__init__(weight,reduction=reduction,ignore_index= ignore_index)\n",
        "        self.gamma = gamma\n",
        "        self.weight = weight #weight parameter will act as the alpha parameter to balance class weights\n",
        "\n",
        "    def forward(self, input, target):\n",
        "\n",
        "        ce_loss = F.cross_entropy(input, target,reduction=self.reduction,weight=self.weight)\n",
        "        pt = torch.exp(-ce_loss)\n",
        "        focal_loss = ((1 - pt) ** self.gamma * ce_loss).mean()\n",
        "        return focal_loss"
      ],
      "execution_count": null,
      "outputs": []
    },
    {
      "cell_type": "markdown",
      "metadata": {
        "id": "zCoEZZnmtZNH"
      },
      "source": [
        "**Optimizer and Loss function**"
      ]
    },
    {
      "cell_type": "code",
      "metadata": {
        "id": "NxPL9AjHthCP"
      },
      "source": [
        "#adding regularization\n",
        "optimizer = optim.Adam(model.parameters(), weight_decay=1e-5)\n",
        "#without regularization\n",
        "#optimizer = optim.Adam(model.parameters())\n",
        "Text_PAD_IDX = Text.vocab.stoi[Text.pad_token]\n",
        "#focal loss\n",
        "#criterion = FocalLoss(ignore_index = Text_PAD_IDX)\n",
        "#crossentropy\n",
        "criterion = nn.CrossEntropyLoss(ignore_index = Text_PAD_IDX)"
      ],
      "execution_count": null,
      "outputs": []
    },
    {
      "cell_type": "markdown",
      "metadata": {
        "id": "32mmk48hDJek"
      },
      "source": [
        "**trainnig method**"
      ]
    },
    {
      "cell_type": "code",
      "metadata": {
        "id": "hWhN8fkJDL6G"
      },
      "source": [
        "def train(model, iterator, optimizer, criterion, clip):\n",
        "    model.train()\n",
        "    epoch_loss = 0\n",
        "    for i, batch in enumerate(iterator):\n",
        "        src = batch.description\n",
        "        trg = batch.keywords\n",
        "        optimizer.zero_grad()\n",
        "        output = model(src, trg)\n",
        "        #trg = [trg len, batch size]\n",
        "        #output = [trg len, batch size, output dim]\n",
        "        output_dim = output.shape[-1]\n",
        "        output = output[1:].view(-1, output_dim)\n",
        "        trg = trg[1:].view(-1)\n",
        "        #trg = [(trg len - 1) * batch size]\n",
        "        #output = [(trg len - 1) * batch size, output dim]\n",
        "        loss = criterion(output, trg)\n",
        "        loss.backward()\n",
        "        torch.nn.utils.clip_grad_norm_(model.parameters(), clip)\n",
        "        optimizer.step()\n",
        "        epoch_loss += loss.item()\n",
        "    return epoch_loss / len(iterator)"
      ],
      "execution_count": null,
      "outputs": []
    },
    {
      "cell_type": "markdown",
      "metadata": {
        "id": "qhIZKFF5EE1B"
      },
      "source": [
        "**Evaluation method**"
      ]
    },
    {
      "cell_type": "code",
      "metadata": {
        "id": "jUSCbsN3EJE6"
      },
      "source": [
        "def evaluate(model, iterator, criterion):\n",
        "    model.eval()\n",
        "    epoch_loss = 0\n",
        "    with torch.no_grad():\n",
        "        for i, batch in enumerate(iterator):\n",
        "            src = batch.description\n",
        "            trg = batch.keywords\n",
        "            output = model(src, trg, 0) #turn off teacher forcing\n",
        "            #trg = [trg len, batch size]\n",
        "            #output = [trg len, batch size, output dim]\n",
        "            output_dim = output.shape[-1]\n",
        "            output = output[1:].view(-1, output_dim)\n",
        "            trg = trg[1:].view(-1)\n",
        "            #trg = [(trg len - 1) * batch size]\n",
        "            #output = [(trg len - 1) * batch size, output dim]\n",
        "            loss = criterion(output, trg)\n",
        "            epoch_loss += loss.item()\n",
        "    return epoch_loss / len(iterator)"
      ],
      "execution_count": null,
      "outputs": []
    },
    {
      "cell_type": "markdown",
      "metadata": {
        "id": "qt6A0h1IEZmB"
      },
      "source": [
        "**Epoch time**"
      ]
    },
    {
      "cell_type": "code",
      "metadata": {
        "id": "SLqyayJXEfF1"
      },
      "source": [
        "def epoch_time(start_time, end_time):\n",
        "    elapsed_time = end_time - start_time\n",
        "    elapsed_mins = int(elapsed_time / 60)\n",
        "    elapsed_secs = int(elapsed_time - (elapsed_mins * 60))\n",
        "    return elapsed_mins, elapsed_secs"
      ],
      "execution_count": null,
      "outputs": []
    },
    {
      "cell_type": "markdown",
      "metadata": {
        "id": "EdzB779cEn-1"
      },
      "source": [
        "**Training the model**"
      ]
    },
    {
      "cell_type": "code",
      "metadata": {
        "id": "8z-ty55iE4iJ"
      },
      "source": [
        "N_EPOCHS = 40\n",
        "CLIP = 1\n",
        "#model.load_state_dict(torch.load('tut1-model.pt'))\n",
        "best_valid_loss = float('inf')\n",
        "for epoch in range(N_EPOCHS):\n",
        "    start_time = time.time()\n",
        "    train_loss = train(model, train_iterator, optimizer, criterion, CLIP)\n",
        "    valid_loss = evaluate(model, valid_iterator, criterion)\n",
        "    end_time = time.time()\n",
        "    epoch_mins, epoch_secs = epoch_time(start_time, end_time)\n",
        "    if valid_loss < best_valid_loss:\n",
        "        best_valid_loss = valid_loss\n",
        "        torch.save(model.state_dict(), 'tut1-model.pt')\n",
        "    print(f'Epoch: {epoch+1:02} | Time: {epoch_mins}m {epoch_secs}s')\n",
        "    print(f'\\tTrain Loss: {train_loss:.3f} | Train PPL: {math.exp(train_loss):7.3f}')\n",
        "    print(f'\\t Val. Loss: {valid_loss:.3f} |  Val. PPL: {math.exp(valid_loss):7.3f}')\n"
      ],
      "execution_count": null,
      "outputs": []
    },
    {
      "cell_type": "markdown",
      "metadata": {
        "id": "01aWSFCOFdac"
      },
      "source": [
        "**Test the model**"
      ]
    },
    {
      "cell_type": "code",
      "metadata": {
        "id": "NL-Bx_cKFfgX"
      },
      "source": [
        "model.load_state_dict(torch.load('tut1-model.pt', map_location='cpu'))\n",
        "test_loss = evaluate(model, test_iterator, criterion)\n",
        "print(f'| Test Loss: {test_loss:.3f} | Test PPL: {math.exp(test_loss):7.3f} |')"
      ],
      "execution_count": null,
      "outputs": []
    },
    {
      "cell_type": "markdown",
      "metadata": {
        "id": "iM_PlOKYwWsz"
      },
      "source": [
        "**Create output method**"
      ]
    },
    {
      "cell_type": "code",
      "metadata": {
        "id": "hfZRtINIwa1o"
      },
      "source": [
        "def create_query(sentence, src_field, trg_field, model, device, max_len = 150):\n",
        "\n",
        "    model.eval()\n",
        "    \n",
        "    if isinstance(sentence, str):\n",
        "        nlp = spacy.load('en')\n",
        "        tokens = [token.text.lower() for token in nlp(sentence)]\n",
        "    else:\n",
        "        tokens = [token.lower() for token in sentence]\n",
        "    tokens = [src_field.init_token] + tokens + [src_field.eos_token]\n",
        "    src_indexes = [src_field.vocab.stoi[token] for token in tokens]\n",
        "    src_tensor = torch.LongTensor(src_indexes).unsqueeze(1).to(device)\n",
        "    \n",
        "    with torch.no_grad():\n",
        "        hidden, cell = model.encoder(src_tensor)\n",
        "\n",
        "    trg_indexes = [trg_field.vocab.stoi[trg_field.init_token]]\n",
        "\n",
        "    for i in range(max_len):\n",
        "\n",
        "        trg_tensor = torch.LongTensor([trg_indexes[-1]]).to(device)\n",
        "        with torch.no_grad():\n",
        "            output, hidden, cell = model.decoder(trg_tensor, hidden, cell)\n",
        "        pred_token = output.argmax(1).item()\n",
        "        \n",
        "        trg_indexes.append(pred_token)\n",
        "\n",
        "        if pred_token == trg_field.vocab.stoi[trg_field.eos_token]:\n",
        "            break\n",
        "    \n",
        "    trg_tokens = [trg_field.vocab.itos[i] for i in trg_indexes]\n",
        "    \n",
        "    return trg_tokens[1:]"
      ],
      "execution_count": null,
      "outputs": []
    },
    {
      "cell_type": "markdown",
      "metadata": {
        "id": "9XR2V4kuAZTP"
      },
      "source": [
        "**test the code**"
      ]
    },
    {
      "cell_type": "code",
      "metadata": {
        "id": "GfU6tAy0ARer"
      },
      "source": [
        "for i in range (10,20):\n",
        "  src = vars(test_data.examples[i])['description']\n",
        "  trg = vars(test_data.examples[i])['keywords']\n",
        "  print(f'src = {src}')\n",
        "  print(f'trg = {trg}')\n",
        "  query = create_query(src, Text, Text, model, device)\n",
        "  print(f'predicted trg = {query}')"
      ],
      "execution_count": null,
      "outputs": []
    },
    {
      "cell_type": "markdown",
      "metadata": {
        "id": "yoi_YpsWIqKG"
      },
      "source": [
        "Refrences : \n",
        "https://github.com/bentrevett/pytorch-seq2seq"
      ]
    }
  ]
}